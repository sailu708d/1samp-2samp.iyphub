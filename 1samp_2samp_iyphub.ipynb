{
  "nbformat": 4,
  "nbformat_minor": 0,
  "metadata": {
    "colab": {
      "provenance": [],
      "authorship_tag": "ABX9TyPiu7OBN7xdqeqrw7O3ZsWe",
      "include_colab_link": true
    },
    "kernelspec": {
      "name": "python3",
      "display_name": "Python 3"
    },
    "language_info": {
      "name": "python"
    }
  },
  "cells": [
    {
      "cell_type": "markdown",
      "metadata": {
        "id": "view-in-github",
        "colab_type": "text"
      },
      "source": [
        "<a href=\"https://colab.research.google.com/github/sailu708d/1samp-2samp.iyphub/blob/main/1samp_2samp_iyphub.ipynb\" target=\"_parent\"><img src=\"https://colab.research.google.com/assets/colab-badge.svg\" alt=\"Open In Colab\"/></a>"
      ]
    },
    {
      "cell_type": "code",
      "execution_count": null,
      "metadata": {
        "colab": {
          "base_uri": "https://localhost:8080/"
        },
        "id": "JDCsvdvn1mds",
        "outputId": "da70c985-11a5-42f5-9026-0501a4f7892d"
      },
      "outputs": [
        {
          "output_type": "execute_result",
          "data": {
            "text/plain": [
              "1.6765508919142629"
            ]
          },
          "metadata": {},
          "execution_count": 2
        }
      ],
      "source": [
        "from scipy import stats\n",
        "stats.t.ppf(0.95,49)"
      ]
    },
    {
      "cell_type": "code",
      "source": [
        "import pandas as pd\n",
        "from scipy import stats\n",
        "import scipy\n",
        "Data = pd.Series([0.593, 0.142, 0.329, 0.691, 0.231, 0.793, 0.519, 0.392, 0.418])\n",
        "\n",
        "scipy.stats.ttest_1samp(Data,0.3)"
      ],
      "metadata": {
        "colab": {
          "base_uri": "https://localhost:8080/"
        },
        "id": "R0cJiTvw19o1",
        "outputId": "5174074c-7dfd-4407-a321-1aef2acf416a"
      },
      "execution_count": null,
      "outputs": [
        {
          "output_type": "execute_result",
          "data": {
            "text/plain": [
              "TtestResult(statistic=2.2050588385131595, pvalue=0.05853032968489765, df=8)"
            ]
          },
          "metadata": {},
          "execution_count": 9
        }
      ]
    },
    {
      "cell_type": "code",
      "source": [
        "Control=pd.Series([91, 87, 99, 77, 88, 91])\n",
        "\n",
        "Treat =pd.Series([101, 110, 103, 93, 99, 104])\n",
        "\n",
        "stats.ttest_ind( Control,Treat)\n",
        "\n"
      ],
      "metadata": {
        "colab": {
          "base_uri": "https://localhost:8080/"
        },
        "id": "Qb9bmCfy4xEx",
        "outputId": "b93663f6-a633-4845-920a-8fda96b13540"
      },
      "execution_count": null,
      "outputs": [
        {
          "output_type": "execute_result",
          "data": {
            "text/plain": [
              "TtestResult(statistic=-3.4456126735364876, pvalue=0.006272124350809803, df=10.0)"
            ]
          },
          "metadata": {},
          "execution_count": 11
        }
      ]
    },
    {
      "cell_type": "code",
      "source": [
        "import pandas as pd\n",
        "import numpy as np"
      ],
      "metadata": {
        "id": "ziHCB_Pv5wUj"
      },
      "execution_count": null,
      "outputs": []
    },
    {
      "cell_type": "code",
      "source": [
        "n1=247\n",
        "p1=0.37\n",
        "n2=308\n",
        "p2=0.39"
      ],
      "metadata": {
        "id": "ab0mLQtV513F"
      },
      "execution_count": null,
      "outputs": []
    },
    {
      "cell_type": "code",
      "source": [
        "s1=np.random.binomial(1,p1,n1)\n",
        "s1"
      ],
      "metadata": {
        "colab": {
          "base_uri": "https://localhost:8080/"
        },
        "id": "367Of_0L5_js",
        "outputId": "541176c5-017e-454a-ed7b-0d5bf4d5de71"
      },
      "execution_count": null,
      "outputs": [
        {
          "output_type": "execute_result",
          "data": {
            "text/plain": [
              "array([1, 0, 0, 0, 0, 0, 1, 0, 0, 0, 0, 0, 0, 0, 0, 0, 0, 0, 1, 0, 0, 0,\n",
              "       0, 1, 0, 1, 1, 1, 1, 0, 0, 0, 1, 1, 0, 1, 1, 1, 0, 0, 1, 0, 0, 1,\n",
              "       0, 0, 1, 0, 0, 1, 0, 0, 1, 1, 0, 0, 0, 1, 1, 0, 1, 0, 0, 1, 0, 0,\n",
              "       0, 1, 0, 1, 1, 1, 1, 1, 1, 1, 0, 1, 0, 1, 1, 1, 0, 0, 1, 1, 0, 0,\n",
              "       0, 0, 1, 0, 1, 1, 0, 0, 1, 0, 1, 1, 0, 0, 1, 1, 1, 1, 0, 0, 0, 1,\n",
              "       1, 0, 0, 1, 1, 1, 1, 0, 1, 0, 1, 0, 0, 1, 0, 1, 0, 0, 1, 1, 0, 1,\n",
              "       1, 0, 0, 0, 1, 0, 0, 0, 1, 0, 1, 1, 0, 1, 0, 1, 0, 1, 1, 1, 1, 0,\n",
              "       0, 0, 0, 1, 0, 0, 0, 0, 0, 0, 1, 0, 1, 0, 0, 0, 0, 0, 0, 1, 0, 1,\n",
              "       0, 1, 1, 1, 0, 1, 0, 1, 0, 0, 0, 1, 0, 1, 0, 1, 0, 0, 1, 0, 1, 0,\n",
              "       0, 0, 0, 1, 0, 0, 0, 0, 1, 0, 1, 0, 0, 1, 1, 0, 1, 0, 0, 1, 0, 0,\n",
              "       0, 0, 1, 0, 0, 0, 0, 0, 0, 0, 0, 1, 0, 0, 0, 0, 1, 0, 1, 0, 1, 1,\n",
              "       1, 0, 1, 0, 0])"
            ]
          },
          "metadata": {},
          "execution_count": 15
        }
      ]
    },
    {
      "cell_type": "code",
      "source": [
        "s2=np.random.binomial(2,p2,n2)\n",
        "s2"
      ],
      "metadata": {
        "colab": {
          "base_uri": "https://localhost:8080/"
        },
        "id": "u35ClgxU6GQb",
        "outputId": "545356fe-3757-4aba-d707-8a33233ae6f3"
      },
      "execution_count": null,
      "outputs": [
        {
          "output_type": "execute_result",
          "data": {
            "text/plain": [
              "array([0, 1, 0, 2, 1, 0, 0, 0, 0, 1, 1, 0, 1, 0, 1, 0, 1, 1, 1, 0, 1, 0,\n",
              "       1, 0, 2, 1, 0, 0, 0, 0, 2, 1, 1, 0, 0, 2, 1, 1, 0, 2, 1, 1, 1, 0,\n",
              "       2, 1, 0, 1, 1, 1, 1, 0, 0, 0, 2, 1, 0, 0, 0, 2, 0, 1, 1, 2, 2, 2,\n",
              "       0, 1, 0, 0, 1, 1, 1, 1, 0, 0, 1, 1, 1, 1, 1, 1, 1, 0, 1, 1, 0, 0,\n",
              "       1, 1, 0, 0, 0, 2, 0, 2, 1, 2, 1, 1, 1, 1, 1, 1, 0, 0, 1, 0, 2, 0,\n",
              "       1, 2, 1, 0, 0, 2, 1, 1, 0, 1, 2, 2, 1, 1, 1, 0, 1, 0, 0, 1, 0, 0,\n",
              "       2, 1, 1, 0, 0, 1, 0, 0, 1, 0, 0, 0, 0, 0, 0, 0, 0, 1, 0, 1, 1, 2,\n",
              "       0, 0, 1, 0, 2, 2, 0, 1, 1, 0, 2, 0, 0, 0, 1, 1, 0, 0, 1, 1, 1, 0,\n",
              "       1, 0, 2, 0, 0, 0, 1, 1, 1, 0, 0, 1, 0, 0, 0, 1, 0, 1, 1, 1, 1, 2,\n",
              "       0, 0, 1, 0, 1, 0, 1, 0, 2, 2, 1, 0, 1, 1, 0, 2, 1, 1, 0, 1, 1, 0,\n",
              "       0, 0, 2, 0, 1, 1, 0, 0, 2, 2, 2, 2, 1, 1, 2, 2, 1, 2, 0, 1, 1, 2,\n",
              "       1, 2, 0, 1, 1, 1, 0, 2, 2, 0, 1, 2, 2, 1, 0, 0, 0, 2, 1, 1, 0, 1,\n",
              "       1, 0, 2, 1, 1, 1, 0, 0, 0, 0, 2, 0, 1, 1, 0, 1, 1, 0, 1, 0, 1, 0,\n",
              "       2, 0, 1, 2, 1, 1, 0, 2, 1, 1, 2, 0, 1, 1, 1, 1, 0, 0, 0, 1, 1, 0])"
            ]
          },
          "metadata": {},
          "execution_count": 17
        }
      ]
    },
    {
      "cell_type": "code",
      "source": [
        "import statsmodels.api as sm\n",
        "sm.stats.ttest_ind(s1,s2)"
      ],
      "metadata": {
        "colab": {
          "base_uri": "https://localhost:8080/"
        },
        "id": "3d2DKp8Q6NMs",
        "outputId": "8564ce92-d76a-46c3-a133-e82b4f6d9ce8"
      },
      "execution_count": null,
      "outputs": [
        {
          "output_type": "execute_result",
          "data": {
            "text/plain": [
              "(-6.504842599162081, 1.7427683175233408e-10, 553.0)"
            ]
          },
          "metadata": {},
          "execution_count": 18
        }
      ]
    }
  ]
}